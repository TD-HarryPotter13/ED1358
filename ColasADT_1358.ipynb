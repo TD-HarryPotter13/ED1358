{
  "nbformat": 4,
  "nbformat_minor": 0,
  "metadata": {
    "colab": {
      "name": "ColasADT_1358.ipynb",
      "provenance": [],
      "collapsed_sections": [],
      "authorship_tag": "ABX9TyOz6JarykqWR09Kq4rjda3h",
      "include_colab_link": true
    },
    "kernelspec": {
      "name": "python3",
      "display_name": "Python 3"
    },
    "language_info": {
      "name": "python"
    }
  },
  "cells": [
    {
      "cell_type": "markdown",
      "metadata": {
        "id": "view-in-github",
        "colab_type": "text"
      },
      "source": [
        "<a href=\"https://colab.research.google.com/github/TD-HarryPotter13/ED1358/blob/main/ColasADT_1358.ipynb\" target=\"_parent\"><img src=\"https://colab.research.google.com/assets/colab-badge.svg\" alt=\"Open In Colab\"/></a>"
      ]
    },
    {
      "cell_type": "code",
      "metadata": {
        "id": "rQibF-25qsmI"
      },
      "source": [
        "class QueueADT:\n",
        "  def __init__( self ):\n",
        "    self.__data = []\n",
        "\n",
        "  def is_empty( self ):\n",
        "    return len( self.__data) == 0\n",
        "\n",
        "  def length( self ):\n",
        "    return len( self.__data )\n",
        "\n",
        "  def enqueue( self , elem ):\n",
        "    self.__data.append( elem )\n",
        "\n",
        "  def dequeue( self ):\n",
        "    if not self.is_empty():\n",
        "      return self.__data.pop(0)\n",
        "\n",
        "  def to_string( self ):\n",
        "    for elem in self.__data:\n",
        "      print(f\"| {elem} | <--\", end=\" \")\n",
        "    print(\"\")\n"
      ],
      "execution_count": 32,
      "outputs": []
    },
    {
      "cell_type": "code",
      "metadata": {
        "colab": {
          "base_uri": "https://localhost:8080/"
        },
        "id": "8t5qs-A5vyBP",
        "outputId": "ed3e9a15-73f0-49fb-9ccd-bd0da2919576"
      },
      "source": [
        "cola = QueueADT()\n",
        "print(\"Esta vacío?\" , cola.is_empty() )\n",
        "print(\"# de elementos\", cola.length() )\n",
        "cola.enqueue(10)\n",
        "cola.to_string()\n",
        "print(\".-.-.-.-.-.-.-\")\n",
        "cola.enqueue(20)\n",
        "cola.enqueue(30)\n",
        "cola.enqueue(40)\n",
        "cola.to_string()\n",
        "siguiente = cola.dequeue()\n",
        "print(\"\\n atendiendo a:\", siguiente )\n",
        "cola.to_string()\n"
      ],
      "execution_count": 33,
      "outputs": [
        {
          "output_type": "stream",
          "name": "stdout",
          "text": [
            "Esta vacío? True\n",
            "# de elementos 0\n",
            "| 10 | <-- \n",
            ".-.-.-.-.-.-.-\n",
            "| 10 | <-- | 20 | <-- | 30 | <-- | 40 | <-- \n",
            "\n",
            " atendiendo a: 10\n",
            "| 20 | <-- | 30 | <-- | 40 | <-- \n"
          ]
        }
      ]
    },
    {
      "cell_type": "code",
      "metadata": {
        "id": "U2RsXn2fKEkw"
      },
      "source": [
        "class ColaPrioridadAcotada:\n",
        "  def _init_( self, niveles ):\n",
        "    self.__data = [ QueueADT() for x in range( niveles ) ]\n",
        "    self.length = 0\n",
        "  \n",
        "  def is_empty( self ):\n",
        "    return self.length == 0\n",
        "  \n",
        "  def length(  self ):\n",
        "    return self.length\n",
        "  \n",
        "  def enqueue( self, prioridad, elem ):\n",
        "    if prioridad >= 0 and prioridad < len( self.__data ):\n",
        "      self.__data[ prioridad ].enqueue( elem )\n",
        "      self.length += 1\n",
        "    \n",
        "  def to_string( self ):\n",
        "    for p in range( len( self.__data ) ):\n",
        "      print(f\"\\nPrioridad { p } = \" , end=\"\")\n",
        "      self.__data[p].to_string()\n",
        "\n",
        "  def dequeue( self ):\n",
        "    for nivel in self.__data:\n",
        "      if not nivel.is_empty():\n",
        "        self.length -= 1\n",
        "        return nivel.dequeue()"
      ],
      "execution_count": 34,
      "outputs": []
    },
    {
      "cell_type": "code",
      "metadata": {
        "id": "AIxnOFuCKHjk"
      },
      "source": [
        "cpa = ColaPrioridadAcotada( 7 )\n",
        "print(\"--- Ejemplo #1 ---\")\n",
        "cpa.enqueue( 4, \"A\")\n",
        "cpa.enqueue( 2, \"Z\")\n",
        "cpa.enqueue( 4, \"N\")\n",
        "cpa.enqueue( 1, \"P\")\n",
        "cpa.to_string()\n",
        "print(\"\\n--- Segundo ejemplo ---\")\n",
        "sig = cpa.dequeue()\n",
        "cpa.to_string()"
      ],
      "execution_count": null,
      "outputs": []
    },
    {
      "cell_type": "code",
      "metadata": {
        "id": "yi5dOv_kHUvM"
      },
      "source": [
        "class ColaDePrioridad:\n",
        "  def __init__( self ):\n",
        "    self.__data =[]\n",
        "    self.__length = 0\n",
        "  \n",
        "  def is_empty( self ):\n",
        "    return self.length == 0\n",
        "  \n",
        "  def length(  self ):\n",
        "    return self.length\n",
        "\n",
        "  def enqueue( self, prioridad, elem):\n",
        "    existe = False\n",
        "    indice = 0\n",
        "    for index in range( len(self.__data) ):\n",
        "      if self.__data()[index][\"p\"] == prioridad:\n",
        "        existe = True\n",
        "        indice = index\n",
        "        break\n",
        "    if existe:\n",
        "      self.__data[indice][\"cola\"].enqueue( elem )\n",
        "    else:\n",
        "      self.__[indice].append( { \"p\":prioridad, \"cola\": QueueADT() })\n",
        "      self.__data[-1][\"cola\"].enqueue(elem)"
      ],
      "execution_count": 36,
      "outputs": []
    }
  ]
}