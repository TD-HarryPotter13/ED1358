{
  "nbformat": 4,
  "nbformat_minor": 0,
  "metadata": {
    "colab": {
      "name": "Array 2D Bueno",
      "provenance": [],
      "collapsed_sections": [],
      "authorship_tag": "ABX9TyOtCSV/TSrzcXXCepIQ1HLC",
      "include_colab_link": true
    },
    "kernelspec": {
      "name": "python3",
      "display_name": "Python 3"
    },
    "language_info": {
      "name": "python"
    }
  },
  "cells": [
    {
      "cell_type": "markdown",
      "metadata": {
        "id": "view-in-github",
        "colab_type": "text"
      },
      "source": [
        "<a href=\"https://colab.research.google.com/github/TD-HarryPotter13/ED1358/blob/main/Array_2D_Bueno.ipynb\" target=\"_parent\"><img src=\"https://colab.research.google.com/assets/colab-badge.svg\" alt=\"Open In Colab\"/></a>"
      ]
    },
    {
      "cell_type": "code",
      "metadata": {
        "id": "QEKjPtN384Yl"
      },
      "source": [
        "class Array2D():\n",
        "  \n",
        "  def __init__(self, ren, col):\n",
        "    self.__columnas = col\n",
        "    self.__renglones = ren\n",
        "    self.__data = [[ 0 for i in range(col)]for i in range (ren)]\n",
        "\n",
        "  def to_string(self):\n",
        "    for i in range(self.__renglones):\n",
        "      print(self.__data[i])\n",
        "\n",
        "  def clear(self, dato):\n",
        "    for i in range (self.__renglones):\n",
        "      for x in range(self.__columnas):\n",
        "        self.__data[i][x] = dato\n",
        "\n",
        "  def get_row_size(self):\n",
        "    return (self.__renglones)\n",
        "    \n",
        "  def get_col_size(self):\n",
        "    return (self.__columnas)\n",
        "  \n",
        "  def set_item(self,ren,col,dato):\n",
        "    self.__data[ren][col] = dato\n",
        "\n",
        "  def get_item(self,ren,col):\n",
        "    return self.__data[ren][col]"
      ],
      "execution_count": null,
      "outputs": []
    },
    {
      "cell_type": "code",
      "metadata": {
        "id": "13PBTU4Y-Hcj",
        "colab": {
          "base_uri": "https://localhost:8080/"
        },
        "outputId": "5fa319f6-f5ec-4266-f7c1-fe07c7ad640f"
      },
      "source": [
        "tablero = Array2D(6,5)\n",
        "tablero.to_string()\n",
        "tablero.clear('M')\n",
        "print(\"----Poblacion Inicial----\")\n",
        "tablero.to_string()\n",
        "\n",
        "print(\"----Una Idea de Como Establecer la Poblacion Inicial----\")\n",
        "poblacion_inicial = [ (2,2), (3,1), (3,2), (3,3)]\n",
        "\n",
        "for par in poblacion_inicial:\n",
        "  tablero.set_item(par[0],par[1], 'V')\n",
        "\n",
        "tablero.to_string()\n",
        "\n",
        "#ESTO NO SE DEBE DE HACER PORQUE ES DIFICIL DARLE MANTENIMIENTO\n",
        "\n",
        "print(tablero.get_col_size())\n",
        "print(tablero.get_row_size())\n",
        "\n",
        "celula = tablero.get_item(2,1)\n",
        "print(celula)\n",
        "\n",
        "celula = tablero.get_item(2,2)\n",
        "print(celula)"
      ],
      "execution_count": null,
      "outputs": [
        {
          "output_type": "stream",
          "name": "stdout",
          "text": [
            "[0, 0, 0, 0, 0]\n",
            "[0, 0, 0, 0, 0]\n",
            "[0, 0, 0, 0, 0]\n",
            "[0, 0, 0, 0, 0]\n",
            "[0, 0, 0, 0, 0]\n",
            "[0, 0, 0, 0, 0]\n",
            "----Poblacion Inicial----\n",
            "['M', 'M', 'M', 'M', 'M']\n",
            "['M', 'M', 'M', 'M', 'M']\n",
            "['M', 'M', 'M', 'M', 'M']\n",
            "['M', 'M', 'M', 'M', 'M']\n",
            "['M', 'M', 'M', 'M', 'M']\n",
            "['M', 'M', 'M', 'M', 'M']\n",
            "----Una Idea de Como Establecer la Poblacion Inicial----\n",
            "['M', 'M', 'M', 'M', 'M']\n",
            "['M', 'M', 'M', 'M', 'M']\n",
            "['M', 'M', 'V', 'M', 'M']\n",
            "['M', 'V', 'V', 'V', 'M']\n",
            "['M', 'M', 'M', 'M', 'M']\n",
            "['M', 'M', 'M', 'M', 'M']\n",
            "5\n",
            "6\n",
            "M\n",
            "V\n"
          ]
        }
      ]
    },
    {
      "cell_type": "markdown",
      "metadata": {
        "id": "cBKPJwDiHCPB"
      },
      "source": [
        "##¿Como programar el juego de la vida?\n",
        "\n",
        "### R.- Programar un ADT especifico para empaquetar la logica del Juego de la vida"
      ]
    },
    {
      "cell_type": "code",
      "metadata": {
        "colab": {
          "base_uri": "https://localhost:8080/",
          "height": 130
        },
        "id": "E05qsknvKWm-",
        "outputId": "90a2c9a7-795c-49d9-aaa4-e14b83282f98"
      },
      "source": [
        "\"\"\"\n",
        "En el contructor:\n",
        "  lista_pob_inicial de tuplas que contiene las coordenadas \n",
        "  (ren , col) de las celulas vivas\n",
        "\"\"\"\n",
        "\n",
        "class JuegoDeLaVidaADT:\n",
        "  def __init__(self, rens, cols, lista_pob_inicial, generaciones):\n",
        "    self.tablero = Array2D(rens, cols)\n",
        "    self.generaciones = generaciones\n",
        "    self.gen = 1\n",
        "    self.tablero.clear('M')\n",
        "    for par in lista_pob_inicial:\n",
        "      self.tablero.set_item( par[0] , par[1] , 'V')\n",
        "\n",
        "  def to_string( self ):\n",
        "    print(f\"----GENERACIÓN { self.gen }\")\n",
        "    self.tablero.to_string() \n",
        "\n",
        "\n",
        "\n",
        "  def get_vecinos(r, c):\n",
        "    vecinos = []\n",
        "    for ren in range( r-1, r+1, 1):\n",
        "      for col in range(c-1, c+1, 1):\n",
        "        if col in range(c-1, c+4):\n",
        "          if ren in range(r-1,r+3):\n",
        "\n",
        "\n",
        "  def get_vecinos_vivos(self,  r, c):\n",
        "    vivos = 0\n",
        "    for ren index\n",
        "\n",
        "\n",
        "\n",
        "      return vivos\n",
        "\n"
      ],
      "execution_count": 20,
      "outputs": [
        {
          "output_type": "error",
          "ename": "IndentationError",
          "evalue": "ignored",
          "traceback": [
            "\u001b[0;36m  File \u001b[0;32m\"<ipython-input-20-8ad3ba4934ac>\"\u001b[0;36m, line \u001b[0;32m30\u001b[0m\n\u001b[0;31m    def get_vecinos_vivos(self,  r, c):\u001b[0m\n\u001b[0m    ^\u001b[0m\n\u001b[0;31mIndentationError\u001b[0m\u001b[0;31m:\u001b[0m expected an indented block\n"
          ]
        }
      ]
    },
    {
      "cell_type": "code",
      "metadata": {
        "colab": {
          "base_uri": "https://localhost:8080/"
        },
        "id": "P9q02R9EM0FH",
        "outputId": "ae6092cf-9950-4fe2-d62f-7286bb0477f3"
      },
      "source": [
        "juego = JuegoDeLaVidaADT(6, 5, [(2,2), (3,1), (3,2), (3,3)], 5)\n",
        "juego.to_string()"
      ],
      "execution_count": null,
      "outputs": [
        {
          "output_type": "stream",
          "name": "stdout",
          "text": [
            "----GENERACIÓN 1\n",
            "['M', 'M', 'M', 'M', 'M']\n",
            "['M', 'M', 'M', 'M', 'M']\n",
            "['M', 'M', 'V', 'M', 'M']\n",
            "['M', 'V', 'V', 'V', 'M']\n",
            "['M', 'M', 'M', 'M', 'M']\n",
            "['M', 'M', 'M', 'M', 'M']\n"
          ]
        }
      ]
    },
    {
      "cell_type": "code",
      "metadata": {
        "id": "X2fL6NQiUvjm"
      },
      "source": [
        ""
      ],
      "execution_count": null,
      "outputs": []
    }
  ]
}