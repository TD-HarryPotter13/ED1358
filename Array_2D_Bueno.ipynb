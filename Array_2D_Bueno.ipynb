{
  "nbformat": 4,
  "nbformat_minor": 0,
  "metadata": {
    "colab": {
      "name": "Array 2D Bueno",
      "provenance": [],
      "collapsed_sections": [],
      "authorship_tag": "ABX9TyM3Hul6HRFi0dKSpoq1NZJy",
      "include_colab_link": true
    },
    "kernelspec": {
      "name": "python3",
      "display_name": "Python 3"
    },
    "language_info": {
      "name": "python"
    }
  },
  "cells": [
    {
      "cell_type": "markdown",
      "metadata": {
        "id": "view-in-github",
        "colab_type": "text"
      },
      "source": [
        "<a href=\"https://colab.research.google.com/github/TD-HarryPotter13/ED1358/blob/main/Array_2D_Bueno.ipynb\" target=\"_parent\"><img src=\"https://colab.research.google.com/assets/colab-badge.svg\" alt=\"Open In Colab\"/></a>"
      ]
    },
    {
      "cell_type": "code",
      "metadata": {
        "colab": {
          "base_uri": "https://localhost:8080/"
        },
        "id": "GQhAGcVXC_Wf",
        "outputId": "f5f45c2c-24b7-41a8-9c66-80f0b558717a"
      },
      "source": [
        "!pip install simple_chalk"
      ],
      "execution_count": 1,
      "outputs": [
        {
          "output_type": "stream",
          "name": "stdout",
          "text": [
            "Collecting simple_chalk\n",
            "  Downloading simple_chalk-0.1.0.tar.gz (13 kB)\n",
            "Building wheels for collected packages: simple-chalk\n",
            "  Building wheel for simple-chalk (setup.py) ... \u001b[?25l\u001b[?25hdone\n",
            "  Created wheel for simple-chalk: filename=simple_chalk-0.1.0-py3-none-any.whl size=22163 sha256=f1a0874984d495c6be34ef8d7f53c15138335508f98fac80d87b681ec9ac8c01\n",
            "  Stored in directory: /root/.cache/pip/wheels/24/e2/84/d54838032016039eef79df1137b91defaa6db068d825dfcdcd\n",
            "Successfully built simple-chalk\n",
            "Installing collected packages: simple-chalk\n",
            "Successfully installed simple-chalk-0.1.0\n"
          ]
        }
      ]
    },
    {
      "cell_type": "code",
      "metadata": {
        "id": "QEKjPtN384Yl"
      },
      "source": [
        "class Array2D():\n",
        "  \n",
        "  def __init__(self, ren, col):\n",
        "    self.__columnas = col\n",
        "    self.__renglones = ren\n",
        "    self.__data = [[ 0 for i in range(col)]for i in range (ren)]\n",
        "\n",
        "  def to_string(self):\n",
        "    for i in range(self.__renglones):\n",
        "      print(self.__data[i])\n",
        "\n",
        "  def clear(self, dato):\n",
        "    for i in range (self.__renglones):\n",
        "      for x in range(self.__columnas):\n",
        "        self.__data[i][x] = dato\n",
        "\n",
        "  def get_row_size(self):\n",
        "    return (self.__renglones)\n",
        "    \n",
        "  def get_col_size(self):\n",
        "    return (self.__columnas)\n",
        "  \n",
        "  def set_item(self,ren,col,dato):\n",
        "    self.__data[ren][col] = dato\n",
        "\n",
        "  def get_item(self,ren,col):\n",
        "    return self.__data[ren][col]"
      ],
      "execution_count": 2,
      "outputs": []
    },
    {
      "cell_type": "code",
      "metadata": {
        "id": "13PBTU4Y-Hcj",
        "colab": {
          "base_uri": "https://localhost:8080/"
        },
        "outputId": "f2bf312f-fe19-4421-a2d2-950ab7aafd04"
      },
      "source": [
        "tablero = Array2D(6,5)\n",
        "tablero.to_string()\n",
        "tablero.clear('M')\n",
        "print(\"----Poblacion Inicial----\")\n",
        "tablero.to_string()\n",
        "\n",
        "print(\"----Una Idea de Como Establecer la Poblacion Inicial----\")\n",
        "poblacion_inicial = [ (2,2), (3,1), (3,2), (3,3)]\n",
        "\n",
        "for par in poblacion_inicial:\n",
        "  tablero.set_item(par[0],par[1], 'V')\n",
        "\n",
        "tablero.to_string()\n",
        "\n",
        "#ESTO NO SE DEBE DE HACER PORQUE ES DIFICIL DARLE MANTENIMIENTO\n",
        "\n",
        "print(tablero.get_col_size())\n",
        "print(tablero.get_row_size())\n",
        "\n",
        "celula = tablero.get_item(2,1)\n",
        "print(celula)\n",
        "\n",
        "celula = tablero.get_item(2,2)\n",
        "print(celula)"
      ],
      "execution_count": null,
      "outputs": [
        {
          "output_type": "stream",
          "name": "stdout",
          "text": [
            "[0, 0, 0, 0, 0]\n",
            "[0, 0, 0, 0, 0]\n",
            "[0, 0, 0, 0, 0]\n",
            "[0, 0, 0, 0, 0]\n",
            "[0, 0, 0, 0, 0]\n",
            "[0, 0, 0, 0, 0]\n",
            "----Poblacion Inicial----\n",
            "['M', 'M', 'M', 'M', 'M']\n",
            "['M', 'M', 'M', 'M', 'M']\n",
            "['M', 'M', 'M', 'M', 'M']\n",
            "['M', 'M', 'M', 'M', 'M']\n",
            "['M', 'M', 'M', 'M', 'M']\n",
            "['M', 'M', 'M', 'M', 'M']\n",
            "----Una Idea de Como Establecer la Poblacion Inicial----\n",
            "['M', 'M', 'M', 'M', 'M']\n",
            "['M', 'M', 'M', 'M', 'M']\n",
            "['M', 'M', 'V', 'M', 'M']\n",
            "['M', 'V', 'V', 'V', 'M']\n",
            "['M', 'M', 'M', 'M', 'M']\n",
            "['M', 'M', 'M', 'M', 'M']\n",
            "5\n",
            "6\n",
            "M\n",
            "V\n"
          ]
        }
      ]
    },
    {
      "cell_type": "markdown",
      "metadata": {
        "id": "cBKPJwDiHCPB"
      },
      "source": [
        "##¿Como programar el juego de la vida?\n",
        "\n",
        "### R.- Programar un ADT especifico para empaquetar la logica del Juego de la vida"
      ]
    },
    {
      "cell_type": "code",
      "metadata": {
        "id": "E05qsknvKWm-"
      },
      "source": [
        "\"\"\"\n",
        "En el contructor:\n",
        "  lista_pob_inicial de tuplas que contiene las coordenadas \n",
        "  (ren , col) de las celulas vivas\n",
        "\"\"\"\n",
        "\n",
        "class JuegoDeLaVidaADT:\n",
        "  def __init__(self, rens, cols, lista_pob_inicial, generaciones):\n",
        "    self.tablero = Array2D(rens, cols)\n",
        "    self.generaciones = generaciones\n",
        "    self.gen = 1\n",
        "    self.tablero.clear('M')\n",
        "    for par in lista_pob_inicial:\n",
        "      self.tablero.set_item( par[0] , par[1] , 'V')\n",
        "\n",
        "  def to_string( self ):\n",
        "    print(f\"----GENERACIÓN { self.gen }\")\n",
        "    self.tablero.to_string() \n",
        "\n",
        "\n",
        "\n",
        "  def get_vecinos(r, c):\n",
        "    vecinos = []\n",
        "    for ren in range( r-1, r+2, 1):\n",
        "      for col in range(c-1, c+2, 1):\n",
        "        if ren < 0 or ren >= self.tablero.get_row_size() or col < 0 or col >= self.tablero.get_col_size() or (ren==r and col==c):\n",
        "          pass \n",
        "        else:\n",
        "            vecinos.append((ren,col))  \n",
        "    return vecinos\n",
        "\n",
        "  def get_vecinos_vivos(self,  r, c):\n",
        "    vivos = 0\n",
        "    vecinos = self.get_vecinos(r,c)\n",
        "    for par in vecinos:\n",
        "        if self.tablero.get_item(par(0), par(1)) == 'V':\n",
        "            vivos += 1\n",
        "    return vivos\n",
        "  \n",
        "  def corEnTablero( self ):\n",
        "    cors = []\n",
        "    for ren in range( self.ren ):\n",
        "      for col in range( self.col ):\n",
        "          cor = [ ren, col ]\n",
        "          cors.append(cor)\n",
        "      self.cors = cors \n",
        "\n",
        "  def aplicar_reglas():\n",
        "    nuevoEstado = []\n",
        "\n",
        "    for cor in self.cors:\n",
        "      vivos = self.vecinosVivos( cor[0], cor[1] )\n",
        "      estado = self.tablero.get_item( cor[0], cor[1] )\n",
        "            \n",
        "            # print(estado)\n",
        "            # print(vivos)\n",
        "      if estado == 'V':\n",
        "          if vivos == 2 or vivos == 3:\n",
        "                    nuevoEstado.append('V')\n",
        "          elif vivos == 1 or vivos == 0:\n",
        "                    nuevoEstado.append('M')\n",
        "          elif vivos >= 4 :\n",
        "                    nuevoEstado.append('M')\n",
        "          elif estado  == 'M':\n",
        "                if vivos == 3 :\n",
        "                    nuevoEstado.append('V')\n",
        "                else:\n",
        "                    nuevoEstado.append('M')\n",
        "            # print(nuevoEstado)\n",
        "\n",
        "      for cor in self.cors:\n",
        "            self.tablero.set_item( cor[0], cor[1] ,nuevoEstado[0])\n",
        "            nuevoEstado.pop( 0 )\n",
        "\n",
        "      self.gen += 1\n"
      ],
      "execution_count": 20,
      "outputs": []
    },
    {
      "cell_type": "code",
      "metadata": {
        "colab": {
          "base_uri": "https://localhost:8080/",
          "height": 128
        },
        "id": "P9q02R9EM0FH",
        "outputId": "ede5a06d-9cac-44d4-f900-892f48fb0d18"
      },
      "source": [
        "juego = JuegoDeLaVidaADT(6, 5, [(2,2), (3,1), (3,2), (3,3)], 5)\n",
        "juego.to_string()\n",
        "print(\"Vecinos de 5,4\")\n",
        "print(juego.get_vecinos(5, 4)\n",
        "r=2\n",
        "c=2\n",
        "print(f\"Vecinos vivos de {0},{0} son {juego.get_vecinos_vivos(0,0)}\")"
      ],
      "execution_count": 26,
      "outputs": [
        {
          "output_type": "error",
          "ename": "SyntaxError",
          "evalue": "ignored",
          "traceback": [
            "\u001b[0;36m  File \u001b[0;32m\"<ipython-input-26-b7f3741c13a9>\"\u001b[0;36m, line \u001b[0;32m5\u001b[0m\n\u001b[0;31m    r=2:\u001b[0m\n\u001b[0m    ^\u001b[0m\n\u001b[0;31mSyntaxError\u001b[0m\u001b[0;31m:\u001b[0m invalid syntax\n"
          ]
        }
      ]
    },
    {
      "cell_type": "code",
      "metadata": {
        "id": "X2fL6NQiUvjm",
        "colab": {
          "base_uri": "https://localhost:8080/"
        },
        "outputId": "f3251db6-9595-4d4a-f9cf-26eb1e4f3ab9"
      },
      "source": [
        "from simple_chalk import chalk, green , red\n",
        "\n",
        "nombre= \"Brandon\"\n",
        "edad= 19\n",
        "print(nombre)\n",
        "print(edad)\n",
        "\n",
        "print(chalk.green(nombre))\n",
        "print(chalk.red.bgWhite(edad))"
      ],
      "execution_count": null,
      "outputs": [
        {
          "output_type": "stream",
          "name": "stdout",
          "text": [
            "Brandon\n",
            "19\n",
            "\u001b[32mBrandon\u001b[0m\n",
            "\u001b[31;47m19\u001b[0m\n"
          ]
        }
      ]
    }
  ]
}