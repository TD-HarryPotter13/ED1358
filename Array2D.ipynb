{
  "nbformat": 4,
  "nbformat_minor": 0,
  "metadata": {
    "colab": {
      "name": "Array2D.ipynb",
      "provenance": [],
      "authorship_tag": "ABX9TyORQUPvxAWRtreINWCvDtum",
      "include_colab_link": true
    },
    "kernelspec": {
      "name": "python3",
      "display_name": "Python 3"
    },
    "language_info": {
      "name": "python"
    }
  },
  "cells": [
    {
      "cell_type": "markdown",
      "metadata": {
        "id": "view-in-github",
        "colab_type": "text"
      },
      "source": [
        "<a href=\"https://colab.research.google.com/github/TD-HarryPotter13/ED1358/blob/main/Array2D.ipynb\" target=\"_parent\"><img src=\"https://colab.research.google.com/assets/colab-badge.svg\" alt=\"Open In Colab\"/></a>"
      ]
    },
    {
      "cell_type": "code",
      "metadata": {
        "id": "q4H7AS5VoxN7"
      },
      "source": [
        "class Array2D():\n",
        "  def _init_( row,col ): \n",
        "    info = Array2D(3,4)\n",
        "    info.set_item( 1,3, Persona(\"Brandon\") )\n",
        "    info.set_item( 2,2, Persona (\"Herelyn\") )\n",
        "\n",
        "    print( info.get_row_size(3) )\n",
        "    print( info.get_col_size(4) )\n",
        "    print( info.get_item(2,2) )\n",
        "    print( info.to_string() )\n",
        "\n",
        "    info.clear( None )\n",
        "    info.clear( Alumno(\"Maria\") )   "
      ],
      "execution_count": 46,
      "outputs": []
    },
    {
      "cell_type": "code",
      "metadata": {
        "colab": {
          "base_uri": "https://localhost:8080/",
          "height": 182
        },
        "id": "htyGbKSkzLpD",
        "outputId": "79068f1c-2aee-4cc5-af92-af81b0586d69"
      },
      "source": [
        "ejemplo = Array2D(3,4)\n",
        "ejemplo.get_item(2,2)"
      ],
      "execution_count": 49,
      "outputs": [
        {
          "output_type": "error",
          "ename": "TypeError",
          "evalue": "ignored",
          "traceback": [
            "\u001b[0;31m---------------------------------------------------------------------------\u001b[0m",
            "\u001b[0;31mTypeError\u001b[0m                                 Traceback (most recent call last)",
            "\u001b[0;32m<ipython-input-49-e1cfa6ac5434>\u001b[0m in \u001b[0;36m<module>\u001b[0;34m()\u001b[0m\n\u001b[0;32m----> 1\u001b[0;31m \u001b[0mejemplo\u001b[0m \u001b[0;34m=\u001b[0m \u001b[0mArray2D\u001b[0m\u001b[0;34m(\u001b[0m\u001b[0;36m3\u001b[0m\u001b[0;34m,\u001b[0m\u001b[0;36m4\u001b[0m\u001b[0;34m)\u001b[0m\u001b[0;34m\u001b[0m\u001b[0;34m\u001b[0m\u001b[0m\n\u001b[0m\u001b[1;32m      2\u001b[0m \u001b[0mejemplo\u001b[0m\u001b[0;34m.\u001b[0m\u001b[0mget_item\u001b[0m\u001b[0;34m(\u001b[0m\u001b[0;36m2\u001b[0m\u001b[0;34m,\u001b[0m\u001b[0;36m2\u001b[0m\u001b[0;34m)\u001b[0m\u001b[0;34m\u001b[0m\u001b[0;34m\u001b[0m\u001b[0m\n",
            "\u001b[0;31mTypeError\u001b[0m: Array2D() takes no arguments"
          ]
        }
      ]
    }
  ]
}