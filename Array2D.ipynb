{
  "nbformat": 4,
  "nbformat_minor": 0,
  "metadata": {
    "colab": {
      "name": "Array2D.ipynb",
      "provenance": [],
      "authorship_tag": "ABX9TyMVIBVAxK0b16b5VyiepsDG",
      "include_colab_link": true
    },
    "kernelspec": {
      "name": "python3",
      "display_name": "Python 3"
    },
    "language_info": {
      "name": "python"
    }
  },
  "cells": [
    {
      "cell_type": "markdown",
      "metadata": {
        "id": "view-in-github",
        "colab_type": "text"
      },
      "source": [
        "<a href=\"https://colab.research.google.com/github/TD-HarryPotter13/ED1358/blob/main/Array2D.ipynb\" target=\"_parent\"><img src=\"https://colab.research.google.com/assets/colab-badge.svg\" alt=\"Open In Colab\"/></a>"
      ]
    },
    {
      "cell_type": "code",
      "metadata": {
        "id": "q4H7AS5VoxN7"
      },
      "source": [
        "class Array2D():\n",
        "  def _init_(self, row, col): \n",
        "    self.__row = row\n",
        "    self.__col = col\n",
        "    self.__datos = [0 for x in range(self.__row, self.__col)] \n",
        "  \n",
        "  def get_item( self , row, col):\n",
        "    return self.__datos[3,4]\n",
        "\n",
        "  def set_item(self,row,col , valor):\n",
        "    self.__data[3,4]=valor  \n",
        "\n",
        "  def get_row_size(self):\n",
        "\t  return self.__row\n",
        "\n",
        "  def get_col_size(self):\n",
        "\t  return self.__col   \n",
        "\n",
        "  def to_string(self):\n",
        "      print(self.__datos)   \n",
        "  \n",
        "  def clear(self, valor):  \n",
        "    self.__datos = [0 for x in range(self.__row, self.__col)]\n",
        "\n",
        "  \n",
        "\n",
        "    info = Array2D(3,4)\n",
        "    info.set_item( 1,3, Persona(\"Brandon\") )\n",
        "    info.set_item( 2,2, Persona (\"Herelyn\") ) \n",
        "    \n",
        "    print( info.get_row_size(3) )\n",
        "    print( info.get_col_size(4) )\n",
        "    print( info.get_item(2,2) )\n",
        "    print( info.to_string() )\n",
        "    info.clear( None )\n",
        "    info.clear( Alumno(\"Maria\") )   "
      ],
      "execution_count": 124,
      "outputs": []
    },
    {
      "cell_type": "code",
      "metadata": {
        "id": "htyGbKSkzLpD"
      },
      "source": [
        "ejemplo = Array2D\n",
        "\n",
        "\n",
        "\n"
      ],
      "execution_count": 123,
      "outputs": []
    }
  ]
}