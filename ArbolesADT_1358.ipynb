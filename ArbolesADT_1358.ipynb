{
  "nbformat": 4,
  "nbformat_minor": 0,
  "metadata": {
    "colab": {
      "name": "ArbolesADT_1358.ipynb",
      "provenance": [],
      "authorship_tag": "ABX9TyN320fTLLot6rn5oSKG/viZ",
      "include_colab_link": true
    },
    "kernelspec": {
      "name": "python3",
      "display_name": "Python 3"
    },
    "language_info": {
      "name": "python"
    }
  },
  "cells": [
    {
      "cell_type": "markdown",
      "metadata": {
        "id": "view-in-github",
        "colab_type": "text"
      },
      "source": [
        "<a href=\"https://colab.research.google.com/github/TD-HarryPotter13/ED1358/blob/main/ArbolesADT_1358.ipynb\" target=\"_parent\"><img src=\"https://colab.research.google.com/assets/colab-badge.svg\" alt=\"Open In Colab\"/></a>"
      ]
    },
    {
      "cell_type": "code",
      "metadata": {
        "id": "hEb8xND5ecJL"
      },
      "source": [
        "class BinaryNode:\n",
        "  def __init__( self, value, left=None, right=None ):\n",
        "    self.data = value\n",
        "    self.left = left\n",
        "    self.rigth = right\n",
        "\n",
        "class TernaryNode:\n",
        "  def __init__( self, value, left=None, center=None, right=None ):\n",
        "    self.data = value\n",
        "    self.left = left\n",
        "    self.center = center\n",
        "    self.rigth = right"
      ],
      "execution_count": 2,
      "outputs": []
    },
    {
      "cell_type": "code",
      "metadata": {
        "colab": {
          "base_uri": "https://localhost:8080/"
        },
        "id": "vnbObtAHvG_f",
        "outputId": "0798145d-d8df-4f6e-ef4e-8754f696c5d9"
      },
      "source": [
        "root = BinaryNode(\"R\",BinaryNode(\"C\"),BinaryNode(\"H\"))\n",
        "print( root.left.data )"
      ],
      "execution_count": 4,
      "outputs": [
        {
          "output_type": "stream",
          "name": "stdout",
          "text": [
            "C\n"
          ]
        }
      ]
    },
    {
      "cell_type": "code",
      "metadata": {
        "id": "LnH4U-fXwJoA"
      },
      "source": [
        "root = TernaryNode(4,\\\n",
        "       TernaryNode(3,TernaryNode(5,left=TernaryNode(2)),TernaryNode(5),TernaryNode(2)),\\\n",
        "       None,TernaryNode(5) )\n",
        "\n",
        "print(root.left.left.left.data)\n",
        "print(\".-.-.-.-.-..-.-.-.-.-.-\")\n",
        "\n",
        "aux = root\n",
        "while aux.left != None:\n",
        "  aux = aux.left\n",
        "print(aux.data)\n",
        "print(\".-.-.-.-.-.-.-.-.-.-.-.-.\")\n",
        "print(root.left.rigth.data)"
      ],
      "execution_count": null,
      "outputs": []
    },
    {
      "cell_type": "code",
      "metadata": {
        "colab": {
          "base_uri": "https://localhost:8080/"
        },
        "id": "52cIcaGs5Fn3",
        "outputId": "56e7cf40-c767-4343-9310-406ed51f3b82"
      },
      "source": [
        "root = BinaryNode(\"Santi\",None,BinaryNode(\"Jesus\",BinaryNode(\"Pedro\",None,BinaryNode(\"Pedro Jr\"))))\n",
        "print( root.rigth.left.rigth.data )"
      ],
      "execution_count": 18,
      "outputs": [
        {
          "output_type": "stream",
          "name": "stdout",
          "text": [
            "Pedro Jr\n"
          ]
        }
      ]
    }
  ]
}