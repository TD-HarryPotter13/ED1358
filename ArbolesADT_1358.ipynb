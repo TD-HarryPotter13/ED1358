{
  "nbformat": 4,
  "nbformat_minor": 0,
  "metadata": {
    "colab": {
      "name": "ArbolesADT_1358.ipynb",
      "provenance": [],
      "collapsed_sections": [],
      "authorship_tag": "ABX9TyPAlR/ZrloCkRTDV5paOKBn",
      "include_colab_link": true
    },
    "kernelspec": {
      "name": "python3",
      "display_name": "Python 3"
    },
    "language_info": {
      "name": "python"
    }
  },
  "cells": [
    {
      "cell_type": "markdown",
      "metadata": {
        "id": "view-in-github",
        "colab_type": "text"
      },
      "source": [
        "<a href=\"https://colab.research.google.com/github/TD-HarryPotter13/ED1358/blob/main/ArbolesADT_1358.ipynb\" target=\"_parent\"><img src=\"https://colab.research.google.com/assets/colab-badge.svg\" alt=\"Open In Colab\"/></a>"
      ]
    },
    {
      "cell_type": "code",
      "metadata": {
        "id": "hEb8xND5ecJL"
      },
      "source": [
        "class BinaryNode:\n",
        "  def __init__( self, value, left=None, right=None ):\n",
        "    self.data = value\n",
        "    self.left = left\n",
        "    self.rigth = right\n",
        "\n",
        "class TernaryNode:\n",
        "  def __init__( self, value, left=None, center=None, right=None ):\n",
        "    self.data = value\n",
        "    self.left = left\n",
        "    self.center = center\n",
        "    self.rigth = right"
      ],
      "execution_count": null,
      "outputs": []
    },
    {
      "cell_type": "code",
      "metadata": {
        "id": "vnbObtAHvG_f"
      },
      "source": [
        "root = BinaryNode(\"R\",BinaryNode(\"C\"),BinaryNode(\"H\"))\n",
        "print( root.left.data )"
      ],
      "execution_count": null,
      "outputs": []
    },
    {
      "cell_type": "code",
      "metadata": {
        "id": "LnH4U-fXwJoA"
      },
      "source": [
        "root = TernaryNode(4,\\\n",
        "       TernaryNode(3,TernaryNode(5,left=TernaryNode(2)),TernaryNode(5),TernaryNode(2)),\\\n",
        "       None,TernaryNode(5) )\n",
        "\n",
        "print(root.left.left.left.data)\n",
        "print(\".-.-.-.-.-..-.-.-.-.-.-\")\n",
        "\n",
        "aux = root\n",
        "while aux.left != None:\n",
        "  aux = aux.left\n",
        "print(aux.data)\n",
        "print(\".-.-.-.-.-.-.-.-.-.-.-.-.\")\n",
        "print(root.left.rigth.data)"
      ],
      "execution_count": null,
      "outputs": []
    },
    {
      "cell_type": "code",
      "metadata": {
        "id": "52cIcaGs5Fn3"
      },
      "source": [
        "root = BinaryNode(\"Santi\",None,BinaryNode(\"Jesus\",BinaryNode(\"Pedro\",None,BinaryNode(\"Pedro Jr\"))))\n",
        "print( root.rigth.left.rigth.data )"
      ],
      "execution_count": null,
      "outputs": []
    },
    {
      "cell_type": "code",
      "metadata": {
        "id": "0Ts_kbu534iX"
      },
      "source": [
        "class BinaryNode:\n",
        "  def _init_(self, value, left=None, right=None):\n",
        "    self.data = value\n",
        "    self.left = left\n",
        "    self.right = right\n",
        "\n",
        "class BinarySearchNode:\n",
        "  def _init_( self ):\n",
        "    self.root = None\n",
        "\n",
        "  def insert( self, value ):\n",
        "    if self.root == None:\n",
        "       self.root = BinaryNode( value )\n",
        "    else:\n",
        "       self.__insert_nodo( self.root, value )\n",
        "  \n",
        "  def __insert_nodo( self, nodo, value ):\n",
        "    if nodo == value:\n",
        "      pass\n",
        "    elif value < nodo.data:   # Ir a la izquierda\n",
        "      if nodo.left == None:\n",
        "        nodo.left = BinaryNode( value )\n",
        "      else:\n",
        "        self.__insert_nodo( nodo.left, value )\n",
        "    else:    # Ir a la derecha\n",
        "      if nodo.right == None:\n",
        "        nodo.right = BinaryNode( value )\n",
        "      else:\n",
        "        self.__insert_nodo( nodo.right, value )\n",
        "\n",
        "  def transversal( self, formato = \"posorden\"):\n",
        "    if formato == \"posorden\":\n",
        "      self.recorrido_pos( self.root )\n",
        "    elif formato == \"preorden\":\n",
        "      self.recorrido_pre( self.root )\n",
        "    else:   # Inorden\n",
        "      self.recorrido_in( self.root )\n",
        "    print()\n",
        "\n",
        "  def recorrido_pos( self, nodo ):\n",
        "    if nodo != None:\n",
        "      self.recorrido_pos( nodo.left )\n",
        "      self.recorrido_pos( nodo.right )\n",
        "      print(str( nodo.data ))\n",
        "\n",
        "  def recorrido_pre( self, nodo ):\n",
        "    if nodo != None:\n",
        "      print(str( nodo.data ))\n",
        "      self.recorrido_pre( nodo.left )\n",
        "      self.recorrido_pre( nodo.right )\n",
        "\n",
        "  def recorrido_in( self, nodo ):\n",
        "    if nodo != None:\n",
        "      self.recorrido_in( nodo.left )\n",
        "      print(str( nodo.data ))\n",
        "      self.recorrido_in( nodo.right )\n",
        "\n",
        "  def search( self, value ):\n",
        "    if self.root == None:\n",
        "      print(\"El árbol está vacío\")\n",
        "      return None\n",
        "    else:\n",
        "      return self.__search( self.root, value )\n",
        "\n",
        "  def __search( self, nodo, value ):\n",
        "    if nodo == None:\n",
        "      print(\"El dato no existe en el árbol\")\n",
        "    elif nodo.data == value:\n",
        "      print(\"Encontrado\", nodo.data)\n",
        "      return nodo\n",
        "    elif value < nodo.data:\n",
        "      return self.__search( nodo.left, value )\n",
        "    else:\n",
        "      return self.__search( nodo.right, value )"
      ],
      "execution_count": null,
      "outputs": []
    },
    {
      "cell_type": "code",
      "metadata": {
        "id": "bpjVsj4dpZW3"
      },
      "source": [
        "arb1 = BinarySearchNode()\n",
        "arb1.insert(60)\n",
        "arb1.insert(30)\n",
        "arb1.insert(15)\n",
        "arb1.insert(40)\n",
        "arb1.insert(80)\n",
        "arb1.transversal(\"posorden\")\n",
        "arb1.transversal(\"preorden\")\n",
        "arb1.transversal(\"inorden\")\n",
        "print(arb1.search(110))\n",
        "print(arb1.search(15))\n",
        "print( res )\n",
        "print( res.left.data)"
      ],
      "execution_count": null,
      "outputs": []
    },
    {
      "cell_type": "code",
      "metadata": {
        "id": "f76YG4GA2OIf"
      },
      "source": [
        "arb2 = BinarySearchTree()\n",
        "arb2.insert(8)\n",
        "arb2.insert(5)\n",
        "arb2.insert(1)\n",
        "arb2.insert(4)\n",
        "arb2.insert(6)\n",
        "arb2.insert(7)\n",
        "arb2.insert(20)\n",
        "arb2.insert(12)\n",
        "arb2.insert(23)\n",
        "arb2.transversal(\"preorden\")\n",
        "print(arb2.search(22))\n",
        "print(arb2.search(6).data)"
      ],
      "execution_count": null,
      "outputs": []
    }
  ]
}