{
  "nbformat": 4,
  "nbformat_minor": 0,
  "metadata": {
    "colab": {
      "name": "Listas_1358ED",
      "provenance": [],
      "authorship_tag": "ABX9TyN+rv0Eay0otxTJmpXpXhjo",
      "include_colab_link": true
    },
    "kernelspec": {
      "name": "python3",
      "display_name": "Python 3"
    },
    "language_info": {
      "name": "python"
    }
  },
  "cells": [
    {
      "cell_type": "markdown",
      "metadata": {
        "id": "view-in-github",
        "colab_type": "text"
      },
      "source": [
        "<a href=\"https://colab.research.google.com/github/TD-HarryPotter13/ED1358/blob/main/Listas_1358ED.ipynb\" target=\"_parent\"><img src=\"https://colab.research.google.com/assets/colab-badge.svg\" alt=\"Open In Colab\"/></a>"
      ]
    },
    {
      "cell_type": "code",
      "metadata": {
        "id": "wMPVDav7R-eR"
      },
      "source": [
        "class Nodo:\n",
        "  def __init__(self, value, siguiente=None):\n",
        "      self.data = value\n",
        "      self.next = siguiente\n",
        "      \n"
      ],
      "execution_count": 2,
      "outputs": []
    },
    {
      "cell_type": "code",
      "metadata": {
        "colab": {
          "base_uri": "https://localhost:8080/"
        },
        "id": "hAATXMJHThM1",
        "outputId": "d2b4397c-66b0-4e31-bfc6-a3707238f9c9"
      },
      "source": [
        "head = Nodo(30)\n",
        "print(head.data)\n",
        "print(head.next)\n",
        "\n",
        "punto_entrada = Nodo(20)\n",
        "punto_entrada.next = Nodo(15)\n",
        "print(punto_entrada.data)\n",
        "print(punto_entrada.next.data)\n",
        "\n",
        "head2 = Nodo(20)\n",
        "head2.next = Nodo(15)\n",
        "head2.next.next = Nodo(30)\n",
        "print(head2.data)\n",
        "print(head2.next.data)\n",
        "print(head2.next.next.data)\n",
        "print(head2.next.next.next)\n",
        "\n",
        "print(\"Hacer lo mismo 2do metodo\")\n",
        "\n",
        "punto_entrada = Nodo(20, Nodo(15))\n",
        "print(punto_entrada.data)\n",
        "print(punto_entrada.next.data)\n"
      ],
      "execution_count": 22,
      "outputs": [
        {
          "output_type": "stream",
          "name": "stdout",
          "text": [
            "30\n",
            "None\n",
            "20\n",
            "15\n",
            "20\n",
            "15\n",
            "30\n",
            "None\n",
            "Hacer lo mismo 2do metodo\n",
            "20\n",
            "15\n"
          ]
        }
      ]
    },
    {
      "cell_type": "code",
      "metadata": {
        "id": "aUahIpHhZf0-"
      },
      "source": [
        ""
      ],
      "execution_count": null,
      "outputs": []
    }
  ]
}