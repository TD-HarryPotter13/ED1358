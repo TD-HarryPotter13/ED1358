{
  "nbformat": 4,
  "nbformat_minor": 0,
  "metadata": {
    "colab": {
      "name": "ADTArray.ipynb",
      "provenance": [],
      "authorship_tag": "ABX9TyPO8hGYPLHquf2sJsSRQEPg",
      "include_colab_link": true
    },
    "kernelspec": {
      "name": "python3",
      "display_name": "Python 3"
    },
    "language_info": {
      "name": "python"
    }
  },
  "cells": [
    {
      "cell_type": "markdown",
      "metadata": {
        "id": "view-in-github",
        "colab_type": "text"
      },
      "source": [
        "<a href=\"https://colab.research.google.com/github/TD-HarryPotter13/ED1358/blob/main/ADTArray.ipynb\" target=\"_parent\"><img src=\"https://colab.research.google.com/assets/colab-badge.svg\" alt=\"Open In Colab\"/></a>"
      ]
    },
    {
      "cell_type": "code",
      "metadata": {
        "id": "8bC_93ExICxQ"
      },
      "source": [
        "\"\"\"\n",
        "ADT\n",
        "Estatico\n",
        "\"\"\"\n",
        "\n",
        "\n",
        "\n",
        "\n",
        "\n",
        "class Array():\n",
        "  def __init__(self, tamano):\n",
        "    self.__tamano = tamano\n",
        "    self.__data = [0 for x in range(self.__tamano)]  #generator\n",
        "\n",
        "  def get_item( self , index ):\n",
        "      return self.__data[index]\n",
        "\n",
        "  def to_string(self):\n",
        "      print(self.__data) \n"
      ],
      "execution_count": 16,
      "outputs": []
    },
    {
      "cell_type": "code",
      "metadata": {
        "colab": {
          "base_uri": "https://localhost:8080/"
        },
        "id": "gAKPF44nMQ8v",
        "outputId": "19789548-8bad-4cc4-d9d4-c4a1c122a1cc"
      },
      "source": [
        "ejemplo = Array(5)\n",
        "ejemplo.to_string()\n",
        "ejemplo.get_item(3)"
      ],
      "execution_count": 17,
      "outputs": [
        {
          "output_type": "stream",
          "name": "stdout",
          "text": [
            "[0, 0, 0, 0, 0]\n"
          ]
        },
        {
          "output_type": "execute_result",
          "data": {
            "text/plain": [
              "0"
            ]
          },
          "metadata": {},
          "execution_count": 17
        }
      ]
    }
  ]
}