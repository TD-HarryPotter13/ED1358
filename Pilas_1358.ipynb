{
  "nbformat": 4,
  "nbformat_minor": 0,
  "metadata": {
    "colab": {
      "name": "Pilas_1358.ipynb",
      "provenance": [],
      "authorship_tag": "ABX9TyOWMVsiTYgPlaC0miMrOrdL",
      "include_colab_link": true
    },
    "kernelspec": {
      "name": "python3",
      "display_name": "Python 3"
    },
    "language_info": {
      "name": "python"
    }
  },
  "cells": [
    {
      "cell_type": "markdown",
      "metadata": {
        "id": "view-in-github",
        "colab_type": "text"
      },
      "source": [
        "<a href=\"https://colab.research.google.com/github/TD-HarryPotter13/ED1358/blob/main/Pilas_1358.ipynb\" target=\"_parent\"><img src=\"https://colab.research.google.com/assets/colab-badge.svg\" alt=\"Open In Colab\"/></a>"
      ]
    },
    {
      "cell_type": "code",
      "metadata": {
        "id": "crUWk_E-TZe2"
      },
      "source": [
        "class StackADT:\n",
        "  def __init__( self ):\n",
        "    self.data = list()\n",
        "    self.tope = 0\n",
        "\n",
        "  def is_empty( self ):\n",
        "    return self.tope == 0\n",
        "\n",
        "  def length( self ):\n",
        "    return self.tope\n",
        "\n",
        "  def pop( self ):\n",
        "    if not self.is_empty():\n",
        "      self.tope -= 1\n",
        "      return self.data.pop()\n",
        "    \n",
        "\n",
        "  def peek( self ):\n",
        "    return self.data[ self.tope - 1 ]\n",
        "\n",
        "  def push( self , value ):\n",
        "    self.data.append( value )\n",
        "    self.tope +=1\n",
        "\n",
        "  def to_string( self ):\n",
        "    print(\"El estado de la pila es:\")\n",
        "    for elem in self.data[ : :-1]:\n",
        "      print(f\"| { elem } |\")\n"
      ],
      "execution_count": 8,
      "outputs": []
    },
    {
      "cell_type": "code",
      "metadata": {
        "id": "lwBElGx7YkSK",
        "colab": {
          "base_uri": "https://localhost:8080/"
        },
        "outputId": "ca7f08a9-dd11-4afe-a64d-e3173efcfe4e"
      },
      "source": [
        "pila = StackADT()\n",
        "pila.push( 10 )\n",
        "pila.push( 20 )\n",
        "pila.push( 30 )\n",
        "pila.to_string()\n",
        "print( \"llamada a peek\" , pila.peek() )\n",
        "print( \"llamada a pop\" , pila.pop() )\n",
        "pila.to_string()\n",
        "pila.push( 25 )\n",
        "pila.push( 26 )\n",
        "print(\"despues de meter 25 y 26\")\n",
        "pila.to_string()\n",
        "print(f\"La pila tienen { pila.length() } elementos\")\n",
        "\n"
      ],
      "execution_count": 9,
      "outputs": [
        {
          "output_type": "stream",
          "name": "stdout",
          "text": [
            "El estado de la pila es:\n",
            "| 30 |\n",
            "| 20 |\n",
            "| 10 |\n",
            "llamada a peek 30\n",
            "llamada a pop 30\n",
            "El estado de la pila es:\n",
            "| 20 |\n",
            "| 10 |\n",
            "despues de meter 25 y 26\n",
            "El estado de la pila es:\n",
            "| 26 |\n",
            "| 25 |\n",
            "| 20 |\n",
            "| 10 |\n",
            "La pila tienen 4 elementos\n"
          ]
        }
      ]
    },
    {
      "cell_type": "code",
      "metadata": {
        "id": "a5a_KTcnkkTI"
      },
      "source": [
        "class Array2D():\n",
        "  def __init__(self, ren, col):\n",
        "    self.__columnas = col\n",
        "    self.__renglones = ren\n",
        "    self.__data = [[ 0 for i in range(col)]for i in range (ren)]\n",
        "\n",
        "  def to_string(self):\n",
        "    for i in range(self.__renglones):\n",
        "      print(self.__data[i])\n",
        "\n",
        "  def clear(self, dato):\n",
        "    for i in range (self.__renglones):\n",
        "      for x in range(self.__columnas):\n",
        "        self.__data[i][x] = dato\n",
        "\n",
        "  def get_row_size(self):\n",
        "    return self.__renglones\n",
        "\n",
        "  def get_col_size(self):\n",
        "    return self.__columnas\n",
        "\n",
        "  def set_item(self,ren,col,dato):\n",
        "    self.__data[ren][col] = dato\n",
        "\n",
        "  def get_item(self,ren,col):\n",
        "    return self.__data[ren][col]\n",
        "\n"
      ],
      "execution_count": 10,
      "outputs": []
    },
    {
      "cell_type": "code",
      "metadata": {
        "id": "2SgTzfxpmgpO",
        "colab": {
          "base_uri": "https://localhost:8080/",
          "height": 128
        },
        "outputId": "620d4252-f0de-4964-d4be-9251627e9735"
      },
      "source": [
        "class LaberintoADT:\n",
        "  def __init__( self, archivo ):\n",
        "    self.laberinto = None #Array 2D\n",
        "    self.copia = None\n",
        "    self.camino = StackADT()\n",
        "    self.visitados=[]\n",
        "    self.inicializa( archivo )\n",
        "    self.guardar_copia()\n",
        "    self.laberinto.to_string()\n",
        "    print(\"\\nStack\")\n",
        "    self.camino.to_string()\n",
        "    self.previa = None\n",
        "\n",
        "  def inicializa( self, archivo ):\n",
        "    entrada = open( archivo , 'rt' )\n",
        "    self.laberinto = Array2D( int( entrada.readline().strip() ) , int( entrada.readline().strip() ) )\n",
        "    self.laberinto.clear('P')\n",
        "    lineas = entrada.readlines()\n",
        "    for r in range( len(lineas) ):\n",
        "      lineasBis = lineas[r].strip().split(',')\n",
        "      for c in range( len( lineasBis ) ):\n",
        "        self.laberinto.set_item(r,c,lineasBis[c])\n",
        "\n",
        "    for r in range( self.laberinto.get_row_size() ):\n",
        "      for c in range( self.laberinto.get_col_size() ):\n",
        "        if self.laberinto.get_item(r,c) == 'E':\n",
        "          self.camino.push( ( r,c ) )\n",
        "      \n",
        "  def guardar_copia( self ):\n",
        "    self.copia = self.laberinto\n",
        "\n",
        "  def get_copia( self ):\n",
        "    return self.copia\n",
        "\n",
        "  def ya_visitado( self, r, c ):\n",
        "    resultado = False\n",
        "    if(r , c) in self.visitados:\n",
        "      resultado = True\n",
        "    return resultado\n",
        "  \n",
        "  def marcar_visitado( self , r, c ):\n",
        "    self.visitados.append( ( r,c ) )\n",
        "\n",
        "  def mostrar_camino( self ):\n",
        "    self.comino.to_string()\n",
        "    #pintar solucion\n",
        "  \n",
        "  def es_salida( self ):\n",
        "    actual = self.camino.peek()\n",
        "    resultado = False \n",
        "    if self.laberinto.get_item( actual[0], actual[1] ) == 'S':\n",
        "      resultado = True\n",
        "    return resultado\n",
        "    \n",
        "  def verificar_limites( self, r, c): #True dentro False fuera del array\n",
        "    limite_correcto = True\n",
        "    if r < 0 or r > self.laberinto.get_row_size()  or \\\n",
        "       c < 0 or c > self.laberinto.get_col_size() :\n",
        "       limite_correcto= False\n",
        "    return limite_correcto\n",
        "\n",
        "  def es_corredor( self, r, c ):\n",
        "    resultado = False \n",
        "    if self.laberinto.get_item( r, c) == 'C' or \\\n",
        "       self.laberinto.get_item( r, c) == 'S':\n",
        "       resultado = True\n",
        "    return resultado\n",
        "\n",
        "  def set_previa( self, pos_previa ):\n",
        "    self.previa = pos_previa\n",
        "\n",
        "  def get_previa ( self ):\n",
        "    return self.previa\n",
        "\n",
        "  def buscar_camino( self ):\n",
        "    actual = self.camino.peek()\n",
        "    ren_actual = actual[0]\n",
        "    col_actual = actual[1]\n",
        "    # Izquierda c-1\n",
        "    if self.verificar_limites ( ren_actual, col_actual -1 ) and \\\n",
        "    self.es_corredor ( ren_actual, col_actual -1 ) and \\\n",
        "    not(self,ya_visitado ( ren_actual, col_actual -1 )):\n",
        "      self.set_previa( actual )\n",
        "      self.camino.push( ( ren_actual, col_actual -1 ) )\n",
        "\n",
        "    # Arriba r-1\n",
        "    elif self.verificar_limites ( ren_actual -1, col_actual  ) and \\\n",
        "    self.es_corredor ( ren_actual -1, col_actual  ) and \\\n",
        "    not(self,ya_visitado ( ren_actual -1, col_actual )):\n",
        "      self.set_previa( actual )\n",
        "      self.camino.push( ( ren_actual -1, col_actual  ) )\n",
        "\n",
        "    # Derecha c+1\n",
        "    elif  self.verificar_limites ( ren_actual, col_actual +1 ) and \\\n",
        "    self.es_corredor ( ren_actual, col_actual +1 ) and \\\n",
        "    not(self,ya_visitado ( ren_actual, col_actual +1 )):\n",
        "      self.set_previa( actual )\n",
        "      self.camino.push( ( ren_actual, col_actual +1 ) )\n",
        "\n",
        "    # Abajo r+1\n",
        "    elif self.verificar_limites ( ren_actual +1, col_actual  ) and \\\n",
        "    self.es_corredor ( ren_actual +1, col_actual  ) and \\\n",
        "    not(self,ya_visitado ( ren_actual +1, col_actual )):\n",
        "      self.set_previa( actual )\n",
        "      self.camino.push( ( ren_actual +1, col_actual  ) )\n",
        "\n",
        "    else:\n",
        "      #backtracking\n",
        "      #maracar_visitado()\n",
        "      #camino.pop()\n",
        "\n",
        "\n",
        "\n",
        "\n",
        "\n",
        "\n",
        "\n",
        "\n"
      ],
      "execution_count": 43,
      "outputs": [
        {
          "output_type": "error",
          "ename": "SyntaxError",
          "evalue": "ignored",
          "traceback": [
            "\u001b[0;36m  File \u001b[0;32m\"<ipython-input-43-d569e3eb773c>\"\u001b[0;36m, line \u001b[0;32m106\u001b[0m\n\u001b[0;31m    \u001b[0m\n\u001b[0m    ^\u001b[0m\n\u001b[0;31mSyntaxError\u001b[0m\u001b[0;31m:\u001b[0m unexpected EOF while parsing\n"
          ]
        }
      ]
    },
    {
      "cell_type": "code",
      "metadata": {
        "id": "GzzoC5kOml9W",
        "colab": {
          "base_uri": "https://localhost:8080/"
        },
        "outputId": "fed2eaa2-5f07-4c59-d3d3-6978e3ba59a7"
      },
      "source": [
        "juego1 = LaberintoADT('entrada.txt')\n",
        "juego2 = LaberintoADT('entrada2.txt')"
      ],
      "execution_count": 42,
      "outputs": [
        {
          "output_type": "stream",
          "name": "stdout",
          "text": [
            "['P', 'P', 'P', 'P', 'P']\n",
            "['P', 'P', 'C', 'C', 'S']\n",
            "['P', 'C', 'C', 'P', 'P']\n",
            "['P', 'P', 'C', 'P', 'P']\n",
            "['P', 'P', 'E', 'P', 'P']\n",
            "\n",
            "Stack\n",
            "El estado de la pila es:\n",
            "| (4, 2) |\n",
            "['P', 'P', 'P', 'P', 'P', 'P', 'P', 'P']\n",
            "['P', 'P', 'P', 'P', 'P', 'P', 'P', 'P']\n",
            "['P', 'P', 'P', 'P', 'P', 'P', 'P', 'P']\n",
            "['P', 'P', 'P', 'P', 'P', 'P', 'P', 'P']\n",
            "['P', 'P', 'P', 'P', 'P', 'P', 'P', 'P']\n",
            "['P', 'P', 'P', 'P', 'P', 'P', 'P', 'P']\n",
            "['P', 'P', 'C', 'C', 'C', 'C', 'C', 'P']\n",
            "['P', 'P', 'C', 'P', 'P', 'P', 'C', 'P']\n",
            "['P', 'P', 'C', 'C', 'C', 'P', 'C', 'P']\n",
            "['P', 'P', 'P', 'P', 'C', 'P', 'C', 'S']\n",
            "['P', 'P', 'C', 'P', 'C', 'P', 'P', 'P']\n",
            "['P', 'C', 'C', 'C', 'C', 'C', 'P', 'P']\n",
            "['P', 'P', 'C', 'P', 'P', 'P', 'P', 'P']\n",
            "['P', 'P', 'E', 'P', 'P', 'P', 'P', 'P']\n",
            "\n",
            "Stack\n",
            "El estado de la pila es:\n",
            "| (13, 2) |\n"
          ]
        }
      ]
    }
  ]
}