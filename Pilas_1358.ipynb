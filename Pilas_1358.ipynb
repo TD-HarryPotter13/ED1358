{
  "nbformat": 4,
  "nbformat_minor": 0,
  "metadata": {
    "colab": {
      "name": "Pilas_1358.ipynb",
      "provenance": [],
      "authorship_tag": "ABX9TyPKRpZhfcYpB9+Evh3zVFC7",
      "include_colab_link": true
    },
    "kernelspec": {
      "name": "python3",
      "display_name": "Python 3"
    },
    "language_info": {
      "name": "python"
    }
  },
  "cells": [
    {
      "cell_type": "markdown",
      "metadata": {
        "id": "view-in-github",
        "colab_type": "text"
      },
      "source": [
        "<a href=\"https://colab.research.google.com/github/TD-HarryPotter13/ED1358/blob/main/Pilas_1358.ipynb\" target=\"_parent\"><img src=\"https://colab.research.google.com/assets/colab-badge.svg\" alt=\"Open In Colab\"/></a>"
      ]
    },
    {
      "cell_type": "code",
      "metadata": {
        "id": "crUWk_E-TZe2"
      },
      "source": [
        "class StackADT:\n",
        "  def __init__( self ):\n",
        "    self.data = list()\n",
        "    self.tope = 0\n",
        "\n",
        "  def is_empty( self ):\n",
        "    return self.tope == 0\n",
        "\n",
        "  def length( self ):\n",
        "    return self.tope\n",
        "\n",
        "  def pop( self ):\n",
        "    if not self.is_empty():\n",
        "      self.tope -= 1\n",
        "      return self.data.pop()\n",
        "    \n",
        "\n",
        "  def peek( self ):\n",
        "    return self.data[ self.tope - 1 ]\n",
        "\n",
        "  def push( self , value ):\n",
        "    self.data.append( value )\n",
        "    self.tope +=1\n",
        "\n",
        "  def to_string( self ):\n",
        "    print(\"El estado de la pila es:\")\n",
        "    for elem in self.data[ : :-1]:\n",
        "      print(f\"| { elem } |\")\n"
      ],
      "execution_count": 6,
      "outputs": []
    },
    {
      "cell_type": "code",
      "metadata": {
        "id": "lwBElGx7YkSK"
      },
      "source": [
        "pila = StackADT()\n",
        "pila.push( 10 )\n",
        "pila.push( 20 )\n",
        "pila.push( 30 )\n",
        "pila.to_string()\n",
        "print( \"llamada a peek\" , pila.peek() )\n",
        "print( \"llamada a pop\" , pila.pop() )\n",
        "pila.to_string()\n",
        "pila.push( 25 )\n",
        "pila.push( 26 )\n",
        "print(\"despues de meter 25 y 26\")\n",
        "pila.to_string()\n",
        "print(f\"La pila tienen { pila.length() } elementos\")\n",
        "\n"
      ],
      "execution_count": null,
      "outputs": []
    },
    {
      "cell_type": "code",
      "metadata": {
        "id": "a5a_KTcnkkTI"
      },
      "source": [
        "class Array2D():\n",
        "  def __init__(self, ren, col):\n",
        "    self.__columnas = col\n",
        "    self.__renglones = ren\n",
        "    self.__data = [[ 0 for i in range(col)]for i in range (ren)]\n",
        "\n",
        "  def to_string(self):\n",
        "    for i in range(self.__renglones):\n",
        "      print(self.__data[i])\n",
        "\n",
        "  def clear(self, dato):\n",
        "    for i in range (self.__renglones):\n",
        "      for x in range(self.__columnas):\n",
        "        self.__data[i][x] = dato\n",
        "\n",
        "  def get_row_size(self):\n",
        "    return self.__renglones\n",
        "\n",
        "  def get_col_size(self):\n",
        "    return self.__columnas\n",
        "\n",
        "  def set_item(self,ren,col,dato):\n",
        "    self.__data[ren][col] = dato\n",
        "\n",
        "  def get_item(self,ren,col):\n",
        "    return self.__data[ren][col]\n",
        "\n"
      ],
      "execution_count": null,
      "outputs": []
    },
    {
      "cell_type": "code",
      "metadata": {
        "id": "2SgTzfxpmgpO"
      },
      "source": [
        "class LaberintoADT:\n",
        "  def __init__( self, archivo ):\n",
        "    self.laberinto = None #Array 2D\n",
        "    self.camino = StackADT()\n",
        "    self.inicializa( archivo )\n",
        "    self.laberinto.to_string()\n",
        "    print(\"\\nStack\")\n",
        "    self.camino.to_string()\n",
        "\n",
        "  def inicializa( self, archivo ):\n",
        "    entrada = open( archivo , 'rt' )\n",
        "    self.laberinto = Array2D( int( entrada.readline().strip() ) , int( entrada.readline().strip() ) )\n",
        "    self.laberinto.clear('P')\n",
        "    lineas = entrada.readlines()\n",
        "    for r in range( len(lineas) ):\n",
        "      lineasBis = lineas[r].strip().split(',')\n",
        "      for c in range( len( lineasBis ) ):\n",
        "        self.laberinto.set_item(r,c,lineasBis[c])\n",
        "\n",
        "    for r in range( self.laberinto.get_row_size() ):\n",
        "      for c in range( self.laberinto.get_col_size() ):\n",
        "        if self.laberinto.get_item(r,c) == 'E':\n",
        "          self.camino.push( ( r,c ) )\n",
        "\n"
      ],
      "execution_count": null,
      "outputs": []
    },
    {
      "cell_type": "code",
      "metadata": {
        "id": "GzzoC5kOml9W"
      },
      "source": [
        "juego = LaberintoADT('entrada.txt')"
      ],
      "execution_count": null,
      "outputs": []
    }
  ]
}